{
  "nbformat": 4,
  "nbformat_minor": 0,
  "metadata": {
    "colab": {
      "name": "Summer.ipynb",
      "provenance": [],
      "toc_visible": true
    },
    "kernelspec": {
      "name": "python3",
      "display_name": "Python 3"
    },
    "language_info": {
      "name": "python"
    }
  },
  "cells": [
    {
      "cell_type": "code",
      "metadata": {
        "id": "fUOs4v9tCzS9"
      },
      "source": [
        ""
      ],
      "execution_count": null,
      "outputs": []
    },
    {
      "cell_type": "markdown",
      "metadata": {
        "id": "WL-2EvI8DGYm"
      },
      "source": [
        "# Summer Olympics Data Analysis Assignment"
      ]
    },
    {
      "cell_type": "code",
      "metadata": {
        "id": "fKdQDVDnDMU8"
      },
      "source": [
        "import numpy as np\n",
        "import pandas as pd"
      ],
      "execution_count": 1,
      "outputs": []
    },
    {
      "cell_type": "code",
      "metadata": {
        "id": "mNCQNuOjDQcb"
      },
      "source": [
        "df=pd.read_csv(\"summer.csv\")"
      ],
      "execution_count": 2,
      "outputs": []
    },
    {
      "cell_type": "code",
      "metadata": {
        "id": "X0Kt6YNzDS26"
      },
      "source": [
        "df"
      ],
      "execution_count": null,
      "outputs": []
    },
    {
      "cell_type": "code",
      "metadata": {
        "id": "mzCX7feJDTmF"
      },
      "source": [
        ""
      ],
      "execution_count": null,
      "outputs": []
    },
    {
      "cell_type": "markdown",
      "metadata": {
        "id": "uhv5T09ADasU"
      },
      "source": [
        "## 1. In how many cities Summer Olympics is held so far"
      ]
    },
    {
      "cell_type": "code",
      "metadata": {
        "colab": {
          "base_uri": "https://localhost:8080/"
        },
        "id": "Mf27w2bYDc3j",
        "outputId": "14d7af95-d691-4661-ca0f-f70482b4c48a"
      },
      "source": [
        "cities=len(df['City'].unique())\n",
        "cities"
      ],
      "execution_count": 6,
      "outputs": [
        {
          "output_type": "execute_result",
          "data": {
            "text/plain": [
              "22"
            ]
          },
          "metadata": {},
          "execution_count": 6
        }
      ]
    },
    {
      "cell_type": "markdown",
      "metadata": {
        "id": "JJ0NvWUGDrSe"
      },
      "source": [
        "## 2. Which sport is having most number of Gold Medals so far? (Top 5)"
      ]
    },
    {
      "cell_type": "code",
      "metadata": {
        "colab": {
          "base_uri": "https://localhost:8080/",
          "height": 399
        },
        "id": "7fzAIlkGDh4y",
        "outputId": "b3b8b6da-e670-4e01-aea9-34c755173d38"
      },
      "source": [
        "k=df[df['Medal']=='Gold']\n",
        "\n",
        "data=[]\n",
        "for i in k['Sport'].unique():\n",
        "    data.append([i,len(k[k['Sport']==i])])\n",
        "pd.DataFrame(data,columns=['Sports','gold_medal']).sort_values(by='gold_medal',ascending=False).head().plot(x='Sports',y='gold_medal',kind='bar',figsize=(5,5))\n",
        "\n",
        "\n",
        "\n",
        "\n",
        "\n"
      ],
      "execution_count": 5,
      "outputs": [
        {
          "output_type": "execute_result",
          "data": {
            "text/plain": [
              "<matplotlib.axes._subplots.AxesSubplot at 0x7fee174d9e10>"
            ]
          },
          "metadata": {},
          "execution_count": 5
        },
        {
          "output_type": "display_data",
          "data": {
            "image/png": "[encoded data removed]",
            "text/plain": [
              "<Figure size 360x360 with 1 Axes>"
            ]
          },
          "metadata": {
            "needs_background": "light"
          }
        }
      ]
    },
    {
      "cell_type": "code",
      "metadata": {
        "id": "zL_ph61nD4tX"
      },
      "source": [
        ""
      ],
      "execution_count": null,
      "outputs": []
    },
    {
      "cell_type": "markdown",
      "metadata": {
        "id": "5LvoBk4lElX6"
      },
      "source": [
        "## 3. Which sport is having most number of medals so far? (Top 5)"
      ]
    },
    {
      "cell_type": "code",
      "metadata": {
        "colab": {
          "base_uri": "https://localhost:8080/",
          "height": 345
        },
        "id": "Ye0KriaNEnYg",
        "outputId": "1d56f934-7377-4c25-a4da-a2c9bfac879d"
      },
      "source": [
        "df.groupby(['Sport'])['Medal'].count().sort_values(ascending=False).head().plot.bar()"
      ],
      "execution_count": 7,
      "outputs": [
        {
          "output_type": "execute_result",
          "data": {
            "text/plain": [
              "<matplotlib.axes._subplots.AxesSubplot at 0x7fee1744ff90>"
            ]
          },
          "metadata": {},
          "execution_count": 7
        },
        {
          "output_type": "display_data",
          "data": {
            "image/png": "[encoded data removed]",
            "text/plain": [
              "<Figure size 432x288 with 1 Axes>"
            ]
          },
          "metadata": {
            "needs_background": "light"
          }
        }
      ]
    },
    {
      "cell_type": "code",
      "metadata": {
        "id": "w3vZVTXOE5JX"
      },
      "source": [
        ""
      ],
      "execution_count": null,
      "outputs": []
    },
    {
      "cell_type": "markdown",
      "metadata": {
        "id": "zVgB9CKTFG3B"
      },
      "source": [
        "## 4. Which player has won most number of medals? (Top 5)"
      ]
    },
    {
      "cell_type": "code",
      "metadata": {
        "id": "FGnAuxPZFM2V",
        "outputId": "3bb32891-f451-4813-919c-0d605a5a487d",
        "colab": {
          "base_uri": "https://localhost:8080/",
          "height": 404
        }
      },
      "source": [
        "df.groupby(['Athlete'])['Medal'].count().sort_values(ascending=False).head().plot.bar()"
      ],
      "execution_count": 8,
      "outputs": [
        {
          "output_type": "execute_result",
          "data": {
            "text/plain": [
              "<matplotlib.axes._subplots.AxesSubplot at 0x7fee16f1ced0>"
            ]
          },
          "metadata": {},
          "execution_count": 8
        },
        {
          "output_type": "display_data",
          "data": {
            "image/png": "[encoded data removed]",
            "text/plain": [
              "<Figure size 432x288 with 1 Axes>"
            ]
          },
          "metadata": {
            "needs_background": "light"
          }
        }
      ]
    },
    {
      "cell_type": "code",
      "metadata": {
        "id": "XEu9J9tkFQda"
      },
      "source": [
        ""
      ],
      "execution_count": null,
      "outputs": []
    },
    {
      "cell_type": "markdown",
      "metadata": {
        "id": "pQWzNq4mFc_1"
      },
      "source": [
        "## 5. Which player has won most number Gold Medals of medals? (Top 5)"
      ]
    },
    {
      "cell_type": "code",
      "metadata": {
        "id": "ideTUZT4Fd5e",
        "outputId": "030ffb85-9478-4a94-db7c-30eeac0c0b80",
        "colab": {
          "base_uri": "https://localhost:8080/",
          "height": 426
        }
      },
      "source": [
        "A=df[df['Medal']=='Gold']\n",
        "\n",
        "data=[]\n",
        "for i in A['Athlete'].unique():\n",
        "    data.append([i,len(A[A['Athlete']==i])])\n",
        "pd.DataFrame(data,columns=['Athletes','Gold_medal']).sort_values(by='Gold_medal',ascending=False).head().plot(x='Athletes',y='Gold_medal',kind='bar',figsize=(5,5))\n",
        "\n",
        "\n"
      ],
      "execution_count": 10,
      "outputs": [
        {
          "output_type": "execute_result",
          "data": {
            "text/plain": [
              "<matplotlib.axes._subplots.AxesSubplot at 0x7fee16d7e890>"
            ]
          },
          "metadata": {},
          "execution_count": 10
        },
        {
          "output_type": "display_data",
          "data": {
            "image/png": "[encoded data removed]",
            "text/plain": [
              "<Figure size 360x360 with 1 Axes>"
            ]
          },
          "metadata": {
            "needs_background": "light"
          }
        }
      ]
    },
    {
      "cell_type": "code",
      "metadata": {
        "id": "INnyGt5YFoTQ"
      },
      "source": [
        ""
      ],
      "execution_count": null,
      "outputs": []
    },
    {
      "cell_type": "markdown",
      "metadata": {
        "id": "OVwwppt6F832"
      },
      "source": [
        "## 6. In which year India won first Gold Medal in Summer Olympics?"
      ]
    },
    {
      "cell_type": "code",
      "metadata": {
        "id": "sK1wb1y_GE6Z"
      },
      "source": [
        "df=pd.read_csv(\"summer.csv\")\n",
        "df=df[df['Country']=='IND']\n",
        "df=df[df['Medal']=='Gold']\n",
        "q=df['Year'].unique()\n",
        "year_name=q[0]\n",
        "df=pd.read_csv(\"summer.csv\")"
      ],
      "execution_count": 14,
      "outputs": []
    },
    {
      "cell_type": "code",
      "metadata": {
        "id": "snm48MknGMF5",
        "outputId": "cc3b856e-d2d9-4b80-e891-e04df0df14bb",
        "colab": {
          "base_uri": "https://localhost:8080/"
        }
      },
      "source": [
        "year_name"
      ],
      "execution_count": 15,
      "outputs": [
        {
          "output_type": "execute_result",
          "data": {
            "text/plain": [
              "1928"
            ]
          },
          "metadata": {},
          "execution_count": 15
        }
      ]
    },
    {
      "cell_type": "code",
      "metadata": {
        "id": "q5t__2beGWm8"
      },
      "source": [
        ""
      ],
      "execution_count": null,
      "outputs": []
    },
    {
      "cell_type": "markdown",
      "metadata": {
        "id": "XkharKruGoRd"
      },
      "source": [
        "## 7. Which event is most popular in terms on number of players? (Top 5)"
      ]
    },
    {
      "cell_type": "code",
      "metadata": {
        "id": "K21KWUb7Gq6o",
        "outputId": "5d61de4a-bbeb-489a-fd87-0af2eaa6393a",
        "colab": {
          "base_uri": "https://localhost:8080/",
          "height": 431
        }
      },
      "source": [
        "data=[]\n",
        "for i in df['Event'].unique():\n",
        "    data.append([i,len(df[df['Event']==i])])\n",
        "pd.DataFrame(data,columns=['Events','participated_players']).sort_values(by='participated_players',ascending=False).head().plot(x='Events',y='participated_players',kind='bar',figsize=(5,5))"
      ],
      "execution_count": 16,
      "outputs": [
        {
          "output_type": "execute_result",
          "data": {
            "text/plain": [
              "<matplotlib.axes._subplots.AxesSubplot at 0x7fee16d594d0>"
            ]
          },
          "metadata": {},
          "execution_count": 16
        },
        {
          "output_type": "display_data",
          "data": {
            "image/png": "[encoded data removed]",
            "text/plain": [
              "<Figure size 360x360 with 1 Axes>"
            ]
          },
          "metadata": {
            "needs_background": "light"
          }
        }
      ]
    },
    {
      "cell_type": "code",
      "metadata": {
        "id": "4bgD4R2lGvge"
      },
      "source": [
        ""
      ],
      "execution_count": null,
      "outputs": []
    },
    {
      "cell_type": "markdown",
      "metadata": {
        "id": "VOsr11ldGydm"
      },
      "source": [
        "## 8. Which sport is having most female Gold Medalists? (Top 5)"
      ]
    },
    {
      "cell_type": "code",
      "metadata": {
        "id": "OXHxUAtYG4o3",
        "outputId": "b921e842-0ce7-426d-ad6d-353c203c141d",
        "colab": {
          "base_uri": "https://localhost:8080/",
          "height": 328
        }
      },
      "source": [
        "df=pd.read_csv(\"summer.csv\")\n",
        "df=df[df['Gender']=='Women']\n",
        "df=df[df['Medal']=='Gold']\n",
        "df.groupby(['Sport'])['Medal'].count().sort_values(ascending=False).head().plot.bar()\n",
        "df=pd.read_csv(\"summer.csv\")"
      ],
      "execution_count": 17,
      "outputs": [
        {
          "output_type": "display_data",
          "data": {
            "image/png": "[encoded data removed]",
            "text/plain": [
              "<Figure size 432x288 with 1 Axes>"
            ]
          },
          "metadata": {
            "needs_background": "light"
          }
        }
      ]
    },
    {
      "cell_type": "code",
      "metadata": {
        "id": "OW3zAdlKG9_0"
      },
      "source": [
        ""
      ],
      "execution_count": null,
      "outputs": []
    }
  ]
}